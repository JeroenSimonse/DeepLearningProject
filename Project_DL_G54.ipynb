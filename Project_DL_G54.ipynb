{
  "nbformat": 4,
  "nbformat_minor": 0,
  "metadata": {
    "colab": {
      "name": "Project_DL_v1.ipynb",
      "provenance": [],
      "collapsed_sections": []
    },
    "kernelspec": {
      "name": "python3",
      "display_name": "Python 3"
    },
    "accelerator": "GPU"
  },
  "cells": [
    {
      "cell_type": "code",
      "metadata": {
        "id": "WSlNN-tstYj9"
      },
      "source": [
        "# Importing relevant models\n",
        "import pandas \n",
        "import numpy as np\n",
        "import gensim\n",
        "from sklearn.manifold import TSNE\n",
        "import matplotlib.pyplot as plt\n",
        "from scipy.sparse import dok_matrix\n",
        "from keras.preprocessing.text import Tokenizer\n",
        "from keras.models import Sequential\n",
        "from keras.layers import LSTM, Dense, Dropout, Masking, Embedding,GlobalMaxPool1D,Flatten, Bidirectional\n",
        "import tensorflow as tf\n",
        "from keras.preprocessing.sequence import pad_sequences\n",
        "from sklearn.model_selection import StratifiedShuffleSplit\n",
        "from sklearn.model_selection import train_test_split\n",
        "import collections, numpy\n",
        "from sklearn.metrics import confusion_matrix\n",
        "import pandas as pd\n",
        "import seaborn as sn"
      ],
      "execution_count": null,
      "outputs": []
    },
    {
      "cell_type": "code",
      "metadata": {
        "id": "7jI0DhxXScrv"
      },
      "source": [
        ""
      ],
      "execution_count": null,
      "outputs": []
    },
    {
      "cell_type": "code",
      "metadata": {
        "id": "Gwo5OtAqtbB9",
        "colab": {
          "base_uri": "https://localhost:8080/",
          "height": 34
        },
        "outputId": "596cb958-cf7f-4b00-824a-4e1589c38077"
      },
      "source": [
        "# Mount the drive to your google colaboratory (can be skipped if not working in google collab)\n",
        "from google.colab import drive\n",
        "drive.mount(\"/content/drive\")"
      ],
      "execution_count": null,
      "outputs": [
        {
          "output_type": "stream",
          "text": [
            "Mounted at /content/drive\n"
          ],
          "name": "stdout"
        }
      ]
    },
    {
      "cell_type": "code",
      "metadata": {
        "id": "ypCtJuk8tiwT",
        "colab": {
          "base_uri": "https://localhost:8080/",
          "height": 34
        },
        "outputId": "4b0f39ed-1492-4f94-87f2-b416a2344b00"
      },
      "source": [
        "# Set working directory to path where the X_train and Y_train data is stored.\n",
        "%cd drive/My Drive/Project DL"
      ],
      "execution_count": null,
      "outputs": [
        {
          "output_type": "stream",
          "text": [
            "/content/drive/My Drive/Project DL\n"
          ],
          "name": "stdout"
        }
      ]
    },
    {
      "cell_type": "code",
      "metadata": {
        "id": "e-k3SonC1eCa",
        "colab": {
          "base_uri": "https://localhost:8080/",
          "height": 68
        },
        "outputId": "703a497a-2977-492e-e32b-a1bb9ebe6a36"
      },
      "source": [
        "# List of all files in the current working directory\n",
        "%ls "
      ],
      "execution_count": null,
      "outputs": [
        {
          "output_type": "stream",
          "text": [
            "'Deep Learning Project.ipynb'   Tokenizer_test.ipynb   X_data.txt\n",
            " predictions.txt                Untitled0.ipynb        X_test.txt\n",
            " Project_DL_v1.ipynb            Untitled1.ipynb        y_data.txt\n"
          ],
          "name": "stdout"
        }
      ]
    },
    {
      "cell_type": "code",
      "metadata": {
        "id": "3nUK7moXtiyf",
        "colab": {
          "base_uri": "https://localhost:8080/",
          "height": 54
        },
        "outputId": "9683a553-4daa-4992-8a65-cb521e0e424c"
      },
      "source": [
        "# Load the data and put all sentences in a list\n",
        "with open('X_data.txt') as X_train:\n",
        "    mylist = [line.rstrip('\\n') for line in X_train]\n",
        "\n",
        "X_train = mylist\n",
        "print(X_train[0:5])"
      ],
      "execution_count": null,
      "outputs": [
        {
          "output_type": "stream",
          "text": [
            "['The German economy contracted 5 and EU trade much more so', 'From tomorrow visa liberalisation will come into effect for the remaining countries so that there is full reciprocity', 'All in all although it has been long it has been well worthwhile', 'However while the current developments are certainly heading in the right direction we are still not entirely happy with them for two reasons', 'He is wise to recommend that Parliament gives its assent to the position that the Council has adopted']\n"
          ],
          "name": "stdout"
        }
      ]
    },
    {
      "cell_type": "code",
      "metadata": {
        "id": "2bZEp9p4tvR_",
        "colab": {
          "base_uri": "https://localhost:8080/",
          "height": 35
        },
        "outputId": "03061524-6edc-4595-a9dc-54fee5b1cbc3"
      },
      "source": [
        "# Replace all uppercase letters with lowercase letters\n",
        "X_train = [x.lower() for x in X_train]\n",
        "print(X_train[0])"
      ],
      "execution_count": null,
      "outputs": [
        {
          "output_type": "stream",
          "text": [
            "the german economy contracted 5 and eu trade much more so\n"
          ],
          "name": "stdout"
        }
      ]
    },
    {
      "cell_type": "code",
      "metadata": {
        "id": "78K5Mlbwti0g",
        "colab": {
          "base_uri": "https://localhost:8080/",
          "height": 35
        },
        "outputId": "3713e58b-d7f0-4a90-f58e-c0b0272a18e3"
      },
      "source": [
        "# Load the data and put all labels in a list\n",
        "with open('y_data.txt') as y_train:\n",
        "    mylist = [line.rstrip('\\n') for line in y_train]\n",
        "\n",
        "y_train = mylist\n",
        "\n",
        "# Transform the labels to an array\n",
        "y_train = np.asarray(y_train).astype('float32')\n",
        "\n",
        "nb_sentences = len(X_train)\n",
        "\n",
        "print(y_train[0:5])"
      ],
      "execution_count": null,
      "outputs": [
        {
          "output_type": "stream",
          "text": [
            "[0. 0. 0. 1. 0.]\n"
          ],
          "name": "stdout"
        }
      ]
    },
    {
      "cell_type": "code",
      "metadata": {
        "id": "tT6mIp-5ti2x"
      },
      "source": [
        "# Create tokenizer object\n",
        "tokenizer  = Tokenizer()\n",
        "\n",
        "# Train the Tokenizer to the texts\n",
        "tokenizer.fit_on_texts(X_train)\n",
        "\n",
        "# Convert list of strings into list of lists of integers\n",
        "X_train_tokenized = tokenizer.texts_to_sequences(X_train)"
      ],
      "execution_count": null,
      "outputs": []
    },
    {
      "cell_type": "code",
      "metadata": {
        "id": "NX5LKBvati48",
        "colab": {
          "base_uri": "https://localhost:8080/",
          "height": 54
        },
        "outputId": "74d9ebe2-43e4-413b-f745-15cd1a9f8651"
      },
      "source": [
        "# Example of a sentenze transformed into a list of integers\n",
        "print(X_train[0])\n",
        "print(X_train_tokenized[0])"
      ],
      "execution_count": null,
      "outputs": [
        {
          "output_type": "stream",
          "text": [
            "the german economy contracted 5 and eu trade much more so\n",
            "[1, 1341, 446, 14433, 688, 4, 72, 195, 163, 54, 65]\n"
          ],
          "name": "stdout"
        }
      ]
    },
    {
      "cell_type": "code",
      "metadata": {
        "id": "fsbQxYo7t3r5",
        "colab": {
          "base_uri": "https://localhost:8080/",
          "height": 35
        },
        "outputId": "7b8d497b-c364-4584-8e31-4d3ebbb6fd9d"
      },
      "source": [
        "# Mapping of indexes to words\n",
        "idx_word = tokenizer.index_word\n",
        "\n",
        "# Check if the words match with the indexed words\n",
        "' '.join(idx_word[w] for w in X_train_tokenized[0][:5])"
      ],
      "execution_count": null,
      "outputs": [
        {
          "output_type": "execute_result",
          "data": {
            "application/vnd.google.colaboratory.intrinsic+json": {
              "type": "string"
            },
            "text/plain": [
              "'the german economy contracted 5'"
            ]
          },
          "metadata": {
            "tags": []
          },
          "execution_count": 12
        }
      ]
    },
    {
      "cell_type": "code",
      "metadata": {
        "id": "6ju79A7Lt3tg",
        "colab": {
          "base_uri": "https://localhost:8080/",
          "height": 35
        },
        "outputId": "4f69eb77-8255-4d54-88c7-0375b30eb11c"
      },
      "source": [
        "# Check the length of the longest sentence for padding\n",
        "longest_string = max(X_train_tokenized, key=len)\n",
        "max_sentence = len(longest_string)\n",
        "print(max_sentence)"
      ],
      "execution_count": null,
      "outputs": [
        {
          "output_type": "stream",
          "text": [
            "201\n"
          ],
          "name": "stdout"
        }
      ]
    },
    {
      "cell_type": "code",
      "metadata": {
        "id": "DxzErm25t3vS",
        "colab": {
          "base_uri": "https://localhost:8080/",
          "height": 163
        },
        "outputId": "6973c670-46a4-4e5b-cc0e-2511a0e38b48"
      },
      "source": [
        "# Pad the sequences \n",
        "X_train_padded = pad_sequences(X_train_tokenized, padding='post')\n",
        "print(X_train_padded[0:5])\n",
        "\n",
        "# The length of a single sequence\n",
        "print(len(X_train_padded[0]))\n",
        "\n",
        "# The shape of the data\n",
        "print(X_train_padded.shape)\n",
        "print(type(X_train_padded))\n"
      ],
      "execution_count": null,
      "outputs": [
        {
          "output_type": "stream",
          "text": [
            "[[   1 1341  446 ...    0    0    0]\n",
            " [  36  682 2121 ...    0    0    0]\n",
            " [  30    5   30 ...    0    0    0]\n",
            " [ 103  268    1 ...    0    0    0]\n",
            " [ 127    8 3452 ...    0    0    0]]\n",
            "201\n",
            "(188775, 201)\n",
            "<class 'numpy.ndarray'>\n"
          ],
          "name": "stdout"
        }
      ]
    },
    {
      "cell_type": "code",
      "metadata": {
        "id": "PJvvE3q_uC13",
        "colab": {
          "base_uri": "https://localhost:8080/",
          "height": 54
        },
        "outputId": "95b6e8ef-23bf-4777-ef38-e963bbf703ef"
      },
      "source": [
        "# The amount of words in the vocabulary and the amount of rows in the X_train data\n",
        "num_words = len(idx_word)+1 # +1 since the zero'th index has no value\n",
        "num_sentences = len(X_train_padded)\n",
        "print(num_words)\n",
        "print(num_sentences)"
      ],
      "execution_count": null,
      "outputs": [
        {
          "output_type": "stream",
          "text": [
            "38058\n",
            "188775\n"
          ],
          "name": "stdout"
        }
      ]
    },
    {
      "cell_type": "code",
      "metadata": {
        "id": "_uB-lDYZuHmA"
      },
      "source": [
        "# Train test split with stratification to make sure output classes (labels) are equally distributed in test and valid set\n",
        "X_train, X_valid, y_train, y_valid = train_test_split(X_train_padded, y_train,\n",
        "                                                    stratify=y_train, \n",
        "                                                    test_size=0.2)\n"
      ],
      "execution_count": null,
      "outputs": []
    },
    {
      "cell_type": "code",
      "metadata": {
        "id": "j3si2l58xOyG",
        "colab": {
          "base_uri": "https://localhost:8080/",
          "height": 54
        },
        "outputId": "31eb1f67-2f07-4dc8-9ad0-c5ab7740fcd3"
      },
      "source": [
        "# The data is equally distributed among classes over the training and validation sets \n",
        "print(collections.Counter(y_valid)) \n",
        "print(collections.Counter(y_train))"
      ],
      "execution_count": null,
      "outputs": [
        {
          "output_type": "stream",
          "text": [
            "Counter({1.0: 18886, 0.0: 18869})\n",
            "Counter({1.0: 75545, 0.0: 75475})\n"
          ],
          "name": "stdout"
        }
      ]
    },
    {
      "cell_type": "code",
      "metadata": {
        "id": "6M1AGFhxt3yr",
        "colab": {
          "base_uri": "https://localhost:8080/",
          "height": 290
        },
        "outputId": "219916bb-86bb-44ef-a55f-b5b3c575da2d"
      },
      "source": [
        "# Final model\n",
        "model = Sequential()\n",
        "\n",
        "model.add(Embedding(num_words, 32, input_length=max_sentence))\n",
        "model.add(Bidirectional(LSTM(64)))\n",
        "model.add(Dense(1, activation='sigmoid'))\n",
        "\n",
        "model.compile(loss='binary_crossentropy', \n",
        "              optimizer='adam', \n",
        "              metrics=['accuracy'])\n",
        "\n",
        "print(model.summary())\n",
        "\n"
      ],
      "execution_count": null,
      "outputs": [
        {
          "output_type": "stream",
          "text": [
            "Model: \"sequential\"\n",
            "_________________________________________________________________\n",
            "Layer (type)                 Output Shape              Param #   \n",
            "=================================================================\n",
            "embedding (Embedding)        (None, 201, 32)           1217856   \n",
            "_________________________________________________________________\n",
            "bidirectional (Bidirectional (None, 128)               49664     \n",
            "_________________________________________________________________\n",
            "dense (Dense)                (None, 1)                 129       \n",
            "=================================================================\n",
            "Total params: 1,267,649\n",
            "Trainable params: 1,267,649\n",
            "Non-trainable params: 0\n",
            "_________________________________________________________________\n",
            "None\n"
          ],
          "name": "stdout"
        }
      ]
    },
    {
      "cell_type": "code",
      "metadata": {
        "id": "02L4JQ7HuLMx",
        "colab": {
          "base_uri": "https://localhost:8080/",
          "height": 755
        },
        "outputId": "cb1b9c02-7b09-44f6-f0dd-73593961395c"
      },
      "source": [
        "history = model.fit(X_train, y_train, validation_data=(X_valid, y_valid), epochs=5, batch_size=2500)\n",
        "\n",
        "#### Summarize history accuracy\n",
        "plt.plot(history.history['accuracy'])\n",
        "plt.plot(history.history['val_accuracy'])\n",
        "plt.title('model accuracy')\n",
        "plt.ylabel('accuracy')\n",
        "plt.xlabel('epoch')\n",
        "plt.legend(['train', 'validation'], loc='upper left')\n",
        "\n",
        "plt.show()\n",
        "\n",
        "### Summarize for loss\n",
        "plt.plot(history.history['loss'])\n",
        "plt.plot(history.history['val_loss'])\n",
        "plt.title('model loss')\n",
        "plt.ylabel('loss')\n",
        "plt.xlabel('epoch')\n",
        "plt.legend(['train', 'validation'], loc='upper left')\n",
        "\n",
        "plt.show()"
      ],
      "execution_count": null,
      "outputs": [
        {
          "output_type": "stream",
          "text": [
            "Epoch 1/5\n",
            "61/61 [==============================] - 11s 180ms/step - loss: 0.6531 - accuracy: 0.6091 - val_loss: 0.5659 - val_accuracy: 0.7064\n",
            "Epoch 2/5\n",
            "61/61 [==============================] - 10s 169ms/step - loss: 0.5043 - accuracy: 0.7490 - val_loss: 0.5002 - val_accuracy: 0.7495\n",
            "Epoch 3/5\n",
            "61/61 [==============================] - 10s 169ms/step - loss: 0.4514 - accuracy: 0.7840 - val_loss: 0.4961 - val_accuracy: 0.7523\n",
            "Epoch 4/5\n",
            "61/61 [==============================] - 10s 170ms/step - loss: 0.4266 - accuracy: 0.7988 - val_loss: 0.4965 - val_accuracy: 0.7550\n",
            "Epoch 5/5\n",
            "61/61 [==============================] - 10s 171ms/step - loss: 0.4088 - accuracy: 0.8092 - val_loss: 0.4975 - val_accuracy: 0.7558\n"
          ],
          "name": "stdout"
        },
        {
          "output_type": "display_data",
          "data": {
            "image/png": "[encoded data removed]",
            "text/plain": [
              "<Figure size 432x288 with 1 Axes>"
            ]
          },
          "metadata": {
            "tags": [],
            "needs_background": "light"
          }
        },
        {
          "output_type": "display_data",
          "data": {
            "image/png": "[encoded data removed]",
            "text/plain": [
              "<Figure size 432x288 with 1 Axes>"
            ]
          },
          "metadata": {
            "tags": [],
            "needs_background": "light"
          }
        }
      ]
    },
    {
      "cell_type": "code",
      "metadata": {
        "id": "xRmV6BLx2j2O",
        "colab": {
          "base_uri": "https://localhost:8080/",
          "height": 617
        },
        "outputId": "f09893a3-492d-4107-d51e-294386e53240"
      },
      "source": [
        "# Create a confusion matrix\n",
        "y_pred = (model.predict(X_valid).ravel()>0.5)+0\n",
        "\n",
        "# Change datatype to list so a confusion matrix can be made\n",
        "cm_y_pred = list(y_pred)\n",
        "cm_y_valid = list(y_valid)\n",
        "\n",
        "cm = confusion_matrix(cm_y_valid, cm_y_pred)\n",
        "df_cm = pd.DataFrame(cm, range(2), range(2))\n",
        "plt.figure(figsize=(15,10))\n",
        "sn.set(font_scale=1.4)\n",
        "sn.heatmap(df_cm, annot=True, annot_kws={\"size\": 15}, fmt = 'g')"
      ],
      "execution_count": null,
      "outputs": [
        {
          "output_type": "execute_result",
          "data": {
            "text/plain": [
              "<matplotlib.axes._subplots.AxesSubplot at 0x7ff9f9007080>"
            ]
          },
          "metadata": {
            "tags": []
          },
          "execution_count": 20
        },
        {
          "output_type": "display_data",
          "data": {
            "image/png": "[encoded data removed]",
            "text/plain": [
              "<Figure size 1080x720 with 2 Axes>"
            ]
          },
          "metadata": {
            "tags": [],
            "needs_background": "light"
          }
        }
      ]
    },
    {
      "cell_type": "code",
      "metadata": {
        "id": "RWHp4VSfxmID"
      },
      "source": [
        "# Function to open and clean the test dataset\n",
        "def pre_processing_data(filename):\n",
        "  test_data = open(filename)\n",
        "  test_data = [line.rstrip('\\n') for line in test_data]\n",
        "  test_data = [x.lower() for x in test_data]\n",
        "  test_data = tokenizer.texts_to_sequences(test_data)\n",
        "  test_data = pad_sequences(test_data, maxlen = max_sentence,padding='post')\n",
        "  return test_data"
      ],
      "execution_count": null,
      "outputs": []
    },
    {
      "cell_type": "code",
      "metadata": {
        "id": "_TnzByGS5AkT",
        "colab": {
          "base_uri": "https://localhost:8080/",
          "height": 145
        },
        "outputId": "fd639654-9d55-4844-ecd5-60d74955caff"
      },
      "source": [
        "# Applying the function to X_test\n",
        "pre_processing_data('X_test.txt')"
      ],
      "execution_count": null,
      "outputs": [
        {
          "output_type": "execute_result",
          "data": {
            "text/plain": [
              "array([[ 127, 1159,    9, ...,    0,    0,    0],\n",
              "       [ 700,  241,  137, ...,    0,    0,    0],\n",
              "       [  10,  121,   11, ...,    0,    0,    0],\n",
              "       ...,\n",
              "       [ 660, 2745, 4438, ...,    0,    0,    0],\n",
              "       [  28,    1,  167, ...,    0,    0,    0],\n",
              "       [  13,    1, 1132, ...,    0,    0,    0]], dtype=int32)"
            ]
          },
          "metadata": {
            "tags": []
          },
          "execution_count": 22
        }
      ]
    },
    {
      "cell_type": "code",
      "metadata": {
        "id": "UrBVH0at5Wgh",
        "colab": {
          "base_uri": "https://localhost:8080/",
          "height": 92
        },
        "outputId": "cfa4d94b-27f3-43b0-e65d-edc78e87426f"
      },
      "source": [
        "# Predicting the labels for X_test\n",
        "predictions = model.predict_classes(pre_processing_data('X_test.txt'))"
      ],
      "execution_count": null,
      "outputs": [
        {
          "output_type": "stream",
          "text": [
            "WARNING:tensorflow:From <ipython-input-24-ea019bbc7d1e>:2: Sequential.predict_classes (from tensorflow.python.keras.engine.sequential) is deprecated and will be removed after 2021-01-01.\n",
            "Instructions for updating:\n",
            "Please use instead:* `np.argmax(model.predict(x), axis=-1)`,   if your model does multi-class classification   (e.g. if it uses a `softmax` last-layer activation).* `(model.predict(x) > 0.5).astype(\"int32\")`,   if your model does binary classification   (e.g. if it uses a `sigmoid` last-layer activation).\n"
          ],
          "name": "stdout"
        }
      ]
    },
    {
      "cell_type": "code",
      "metadata": {
        "id": "1fxLTO8v8Or-"
      },
      "source": [
        "# Saving the predictions to a textfile\n",
        "numpy.savetxt('predictions.txt', predictions,fmt = '%1.1d')"
      ],
      "execution_count": null,
      "outputs": []
    },
    {
      "cell_type": "code",
      "metadata": {
        "id": "LFq1BflECBZ5"
      },
      "source": [
        ""
      ],
      "execution_count": null,
      "outputs": []
    }
  ]
}